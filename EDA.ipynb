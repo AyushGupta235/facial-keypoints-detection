{
 "cells": [
  {
   "cell_type": "code",
   "execution_count": 5,
   "id": "f376b300",
   "metadata": {},
   "outputs": [],
   "source": [
    "import torch\n",
    "from torch import nn, optim\n",
    "import os\n",
    "from torch.utils.data import DataLoader\n",
    "from tqdm import tqdm\n",
    "import pandas as pd"
   ]
  },
  {
   "cell_type": "code",
   "execution_count": 8,
   "id": "c7de5383",
   "metadata": {},
   "outputs": [
    {
     "data": {
      "text/html": [
       "<div>\n",
       "<style scoped>\n",
       "    .dataframe tbody tr th:only-of-type {\n",
       "        vertical-align: middle;\n",
       "    }\n",
       "\n",
       "    .dataframe tbody tr th {\n",
       "        vertical-align: top;\n",
       "    }\n",
       "\n",
       "    .dataframe thead th {\n",
       "        text-align: right;\n",
       "    }\n",
       "</style>\n",
       "<table border=\"1\" class=\"dataframe\">\n",
       "  <thead>\n",
       "    <tr style=\"text-align: right;\">\n",
       "      <th></th>\n",
       "      <th>RowId</th>\n",
       "      <th>ImageId</th>\n",
       "      <th>FeatureName</th>\n",
       "      <th>Location</th>\n",
       "    </tr>\n",
       "  </thead>\n",
       "  <tbody>\n",
       "    <tr>\n",
       "      <th>0</th>\n",
       "      <td>1</td>\n",
       "      <td>1</td>\n",
       "      <td>left_eye_center_x</td>\n",
       "      <td>NaN</td>\n",
       "    </tr>\n",
       "    <tr>\n",
       "      <th>1</th>\n",
       "      <td>2</td>\n",
       "      <td>1</td>\n",
       "      <td>left_eye_center_y</td>\n",
       "      <td>NaN</td>\n",
       "    </tr>\n",
       "    <tr>\n",
       "      <th>2</th>\n",
       "      <td>3</td>\n",
       "      <td>1</td>\n",
       "      <td>right_eye_center_x</td>\n",
       "      <td>NaN</td>\n",
       "    </tr>\n",
       "    <tr>\n",
       "      <th>3</th>\n",
       "      <td>4</td>\n",
       "      <td>1</td>\n",
       "      <td>right_eye_center_y</td>\n",
       "      <td>NaN</td>\n",
       "    </tr>\n",
       "    <tr>\n",
       "      <th>4</th>\n",
       "      <td>5</td>\n",
       "      <td>1</td>\n",
       "      <td>left_eye_inner_corner_x</td>\n",
       "      <td>NaN</td>\n",
       "    </tr>\n",
       "    <tr>\n",
       "      <th>5</th>\n",
       "      <td>6</td>\n",
       "      <td>1</td>\n",
       "      <td>left_eye_inner_corner_y</td>\n",
       "      <td>NaN</td>\n",
       "    </tr>\n",
       "    <tr>\n",
       "      <th>6</th>\n",
       "      <td>7</td>\n",
       "      <td>1</td>\n",
       "      <td>left_eye_outer_corner_x</td>\n",
       "      <td>NaN</td>\n",
       "    </tr>\n",
       "    <tr>\n",
       "      <th>7</th>\n",
       "      <td>8</td>\n",
       "      <td>1</td>\n",
       "      <td>left_eye_outer_corner_y</td>\n",
       "      <td>NaN</td>\n",
       "    </tr>\n",
       "    <tr>\n",
       "      <th>8</th>\n",
       "      <td>9</td>\n",
       "      <td>1</td>\n",
       "      <td>right_eye_inner_corner_x</td>\n",
       "      <td>NaN</td>\n",
       "    </tr>\n",
       "    <tr>\n",
       "      <th>9</th>\n",
       "      <td>10</td>\n",
       "      <td>1</td>\n",
       "      <td>right_eye_inner_corner_y</td>\n",
       "      <td>NaN</td>\n",
       "    </tr>\n",
       "  </tbody>\n",
       "</table>\n",
       "</div>"
      ],
      "text/plain": [
       "   RowId  ImageId               FeatureName  Location\n",
       "0      1        1         left_eye_center_x       NaN\n",
       "1      2        1         left_eye_center_y       NaN\n",
       "2      3        1        right_eye_center_x       NaN\n",
       "3      4        1        right_eye_center_y       NaN\n",
       "4      5        1   left_eye_inner_corner_x       NaN\n",
       "5      6        1   left_eye_inner_corner_y       NaN\n",
       "6      7        1   left_eye_outer_corner_x       NaN\n",
       "7      8        1   left_eye_outer_corner_y       NaN\n",
       "8      9        1  right_eye_inner_corner_x       NaN\n",
       "9     10        1  right_eye_inner_corner_y       NaN"
      ]
     },
     "execution_count": 8,
     "metadata": {},
     "output_type": "execute_result"
    }
   ],
   "source": [
    "ids = pd.read_csv(\"data/IdLookupTable.csv\", index_col = False)\n",
    "ids.head(10)"
   ]
  },
  {
   "cell_type": "code",
   "execution_count": 12,
   "id": "eff616cb",
   "metadata": {},
   "outputs": [
    {
     "data": {
      "text/html": [
       "<div>\n",
       "<style scoped>\n",
       "    .dataframe tbody tr th:only-of-type {\n",
       "        vertical-align: middle;\n",
       "    }\n",
       "\n",
       "    .dataframe tbody tr th {\n",
       "        vertical-align: top;\n",
       "    }\n",
       "\n",
       "    .dataframe thead th {\n",
       "        text-align: right;\n",
       "    }\n",
       "</style>\n",
       "<table border=\"1\" class=\"dataframe\">\n",
       "  <thead>\n",
       "    <tr style=\"text-align: right;\">\n",
       "      <th></th>\n",
       "      <th>left_eye_center_x</th>\n",
       "      <th>left_eye_center_y</th>\n",
       "      <th>right_eye_center_x</th>\n",
       "      <th>right_eye_center_y</th>\n",
       "      <th>left_eye_inner_corner_x</th>\n",
       "      <th>left_eye_inner_corner_y</th>\n",
       "      <th>left_eye_outer_corner_x</th>\n",
       "      <th>left_eye_outer_corner_y</th>\n",
       "      <th>right_eye_inner_corner_x</th>\n",
       "      <th>right_eye_inner_corner_y</th>\n",
       "      <th>...</th>\n",
       "      <th>nose_tip_y</th>\n",
       "      <th>mouth_left_corner_x</th>\n",
       "      <th>mouth_left_corner_y</th>\n",
       "      <th>mouth_right_corner_x</th>\n",
       "      <th>mouth_right_corner_y</th>\n",
       "      <th>mouth_center_top_lip_x</th>\n",
       "      <th>mouth_center_top_lip_y</th>\n",
       "      <th>mouth_center_bottom_lip_x</th>\n",
       "      <th>mouth_center_bottom_lip_y</th>\n",
       "      <th>Image</th>\n",
       "    </tr>\n",
       "  </thead>\n",
       "  <tbody>\n",
       "    <tr>\n",
       "      <th>0</th>\n",
       "      <td>66.033564</td>\n",
       "      <td>39.002274</td>\n",
       "      <td>30.227008</td>\n",
       "      <td>36.421678</td>\n",
       "      <td>59.582075</td>\n",
       "      <td>39.647423</td>\n",
       "      <td>73.130346</td>\n",
       "      <td>39.969997</td>\n",
       "      <td>36.356571</td>\n",
       "      <td>37.389402</td>\n",
       "      <td>...</td>\n",
       "      <td>57.066803</td>\n",
       "      <td>61.195308</td>\n",
       "      <td>79.970165</td>\n",
       "      <td>28.614496</td>\n",
       "      <td>77.388992</td>\n",
       "      <td>43.312602</td>\n",
       "      <td>72.935459</td>\n",
       "      <td>43.130707</td>\n",
       "      <td>84.485774</td>\n",
       "      <td>238 236 237 238 240 240 239 241 241 243 240 23...</td>\n",
       "    </tr>\n",
       "    <tr>\n",
       "      <th>1</th>\n",
       "      <td>64.332936</td>\n",
       "      <td>34.970077</td>\n",
       "      <td>29.949277</td>\n",
       "      <td>33.448715</td>\n",
       "      <td>58.856170</td>\n",
       "      <td>35.274349</td>\n",
       "      <td>70.722723</td>\n",
       "      <td>36.187166</td>\n",
       "      <td>36.034723</td>\n",
       "      <td>34.361532</td>\n",
       "      <td>...</td>\n",
       "      <td>55.660936</td>\n",
       "      <td>56.421447</td>\n",
       "      <td>76.352000</td>\n",
       "      <td>35.122383</td>\n",
       "      <td>76.047660</td>\n",
       "      <td>46.684596</td>\n",
       "      <td>70.266553</td>\n",
       "      <td>45.467915</td>\n",
       "      <td>85.480170</td>\n",
       "      <td>219 215 204 196 204 211 212 200 180 168 178 19...</td>\n",
       "    </tr>\n",
       "    <tr>\n",
       "      <th>2</th>\n",
       "      <td>65.057053</td>\n",
       "      <td>34.909642</td>\n",
       "      <td>30.903789</td>\n",
       "      <td>34.909642</td>\n",
       "      <td>59.412000</td>\n",
       "      <td>36.320968</td>\n",
       "      <td>70.984421</td>\n",
       "      <td>36.320968</td>\n",
       "      <td>37.678105</td>\n",
       "      <td>36.320968</td>\n",
       "      <td>...</td>\n",
       "      <td>53.538947</td>\n",
       "      <td>60.822947</td>\n",
       "      <td>73.014316</td>\n",
       "      <td>33.726316</td>\n",
       "      <td>72.732000</td>\n",
       "      <td>47.274947</td>\n",
       "      <td>70.191789</td>\n",
       "      <td>47.274947</td>\n",
       "      <td>78.659368</td>\n",
       "      <td>144 142 159 180 188 188 184 180 167 132 84 59 ...</td>\n",
       "    </tr>\n",
       "  </tbody>\n",
       "</table>\n",
       "<p>3 rows × 31 columns</p>\n",
       "</div>"
      ],
      "text/plain": [
       "   left_eye_center_x  left_eye_center_y  right_eye_center_x  \\\n",
       "0          66.033564          39.002274           30.227008   \n",
       "1          64.332936          34.970077           29.949277   \n",
       "2          65.057053          34.909642           30.903789   \n",
       "\n",
       "   right_eye_center_y  left_eye_inner_corner_x  left_eye_inner_corner_y  \\\n",
       "0           36.421678                59.582075                39.647423   \n",
       "1           33.448715                58.856170                35.274349   \n",
       "2           34.909642                59.412000                36.320968   \n",
       "\n",
       "   left_eye_outer_corner_x  left_eye_outer_corner_y  right_eye_inner_corner_x  \\\n",
       "0                73.130346                39.969997                 36.356571   \n",
       "1                70.722723                36.187166                 36.034723   \n",
       "2                70.984421                36.320968                 37.678105   \n",
       "\n",
       "   right_eye_inner_corner_y  ...  nose_tip_y  mouth_left_corner_x  \\\n",
       "0                 37.389402  ...   57.066803            61.195308   \n",
       "1                 34.361532  ...   55.660936            56.421447   \n",
       "2                 36.320968  ...   53.538947            60.822947   \n",
       "\n",
       "   mouth_left_corner_y  mouth_right_corner_x  mouth_right_corner_y  \\\n",
       "0            79.970165             28.614496             77.388992   \n",
       "1            76.352000             35.122383             76.047660   \n",
       "2            73.014316             33.726316             72.732000   \n",
       "\n",
       "   mouth_center_top_lip_x  mouth_center_top_lip_y  mouth_center_bottom_lip_x  \\\n",
       "0               43.312602               72.935459                  43.130707   \n",
       "1               46.684596               70.266553                  45.467915   \n",
       "2               47.274947               70.191789                  47.274947   \n",
       "\n",
       "   mouth_center_bottom_lip_y  \\\n",
       "0                  84.485774   \n",
       "1                  85.480170   \n",
       "2                  78.659368   \n",
       "\n",
       "                                               Image  \n",
       "0  238 236 237 238 240 240 239 241 241 243 240 23...  \n",
       "1  219 215 204 196 204 211 212 200 180 168 178 19...  \n",
       "2  144 142 159 180 188 188 184 180 167 132 84 59 ...  \n",
       "\n",
       "[3 rows x 31 columns]"
      ]
     },
     "execution_count": 12,
     "metadata": {},
     "output_type": "execute_result"
    }
   ],
   "source": [
    "train_df = pd.read_csv(\"data/training.csv\", index_col = False)\n",
    "train_df.head(3)"
   ]
  },
  {
   "cell_type": "code",
   "execution_count": 13,
   "id": "33cef7e8",
   "metadata": {},
   "outputs": [
    {
     "data": {
      "text/plain": [
       "left_eye_center_x            float64\n",
       "left_eye_center_y            float64\n",
       "right_eye_center_x           float64\n",
       "right_eye_center_y           float64\n",
       "left_eye_inner_corner_x      float64\n",
       "left_eye_inner_corner_y      float64\n",
       "left_eye_outer_corner_x      float64\n",
       "left_eye_outer_corner_y      float64\n",
       "right_eye_inner_corner_x     float64\n",
       "right_eye_inner_corner_y     float64\n",
       "right_eye_outer_corner_x     float64\n",
       "right_eye_outer_corner_y     float64\n",
       "left_eyebrow_inner_end_x     float64\n",
       "left_eyebrow_inner_end_y     float64\n",
       "left_eyebrow_outer_end_x     float64\n",
       "left_eyebrow_outer_end_y     float64\n",
       "right_eyebrow_inner_end_x    float64\n",
       "right_eyebrow_inner_end_y    float64\n",
       "right_eyebrow_outer_end_x    float64\n",
       "right_eyebrow_outer_end_y    float64\n",
       "nose_tip_x                   float64\n",
       "nose_tip_y                   float64\n",
       "mouth_left_corner_x          float64\n",
       "mouth_left_corner_y          float64\n",
       "mouth_right_corner_x         float64\n",
       "mouth_right_corner_y         float64\n",
       "mouth_center_top_lip_x       float64\n",
       "mouth_center_top_lip_y       float64\n",
       "mouth_center_bottom_lip_x    float64\n",
       "mouth_center_bottom_lip_y    float64\n",
       "Image                         object\n",
       "dtype: object"
      ]
     },
     "execution_count": 13,
     "metadata": {},
     "output_type": "execute_result"
    }
   ],
   "source": [
    "train_df.dtypes"
   ]
  },
  {
   "cell_type": "code",
   "execution_count": 17,
   "id": "9398f14e",
   "metadata": {},
   "outputs": [
    {
     "data": {
      "text/plain": [
       "left_eye_center_x              10\n",
       "left_eye_center_y              10\n",
       "right_eye_center_x             13\n",
       "right_eye_center_y             13\n",
       "left_eye_inner_corner_x      4778\n",
       "left_eye_inner_corner_y      4778\n",
       "left_eye_outer_corner_x      4782\n",
       "left_eye_outer_corner_y      4782\n",
       "right_eye_inner_corner_x     4781\n",
       "right_eye_inner_corner_y     4781\n",
       "right_eye_outer_corner_x     4781\n",
       "right_eye_outer_corner_y     4781\n",
       "left_eyebrow_inner_end_x     4779\n",
       "left_eyebrow_inner_end_y     4779\n",
       "left_eyebrow_outer_end_x     4824\n",
       "left_eyebrow_outer_end_y     4824\n",
       "right_eyebrow_inner_end_x    4779\n",
       "right_eyebrow_inner_end_y    4779\n",
       "right_eyebrow_outer_end_x    4813\n",
       "right_eyebrow_outer_end_y    4813\n",
       "nose_tip_x                      0\n",
       "nose_tip_y                      0\n",
       "mouth_left_corner_x          4780\n",
       "mouth_left_corner_y          4780\n",
       "mouth_right_corner_x         4779\n",
       "mouth_right_corner_y         4779\n",
       "mouth_center_top_lip_x       4774\n",
       "mouth_center_top_lip_y       4774\n",
       "mouth_center_bottom_lip_x      33\n",
       "mouth_center_bottom_lip_y      33\n",
       "Image                           0\n",
       "dtype: int64"
      ]
     },
     "execution_count": 17,
     "metadata": {},
     "output_type": "execute_result"
    }
   ],
   "source": [
    "train_df.isna().sum()"
   ]
  },
  {
   "cell_type": "code",
   "execution_count": null,
   "id": "29b4d7bf",
   "metadata": {},
   "outputs": [],
   "source": [
    "print(len(train_df['Image'][0]))\n",
    "print(train_df['Image'][0])"
   ]
  },
  {
   "cell_type": "code",
   "execution_count": 29,
   "id": "fbfc7b3c",
   "metadata": {},
   "outputs": [
    {
     "data": {
      "text/plain": [
       "(7049, 31)"
      ]
     },
     "execution_count": 29,
     "metadata": {},
     "output_type": "execute_result"
    }
   ],
   "source": [
    "train_df.shape"
   ]
  },
  {
   "cell_type": "code",
   "execution_count": 31,
   "id": "2c853c25",
   "metadata": {},
   "outputs": [],
   "source": [
    "train_15_landmarks = train_df[~(train_df.isnull().sum(axis=1) > 20)].copy()\n",
    "train_4_landmarks = train_df[(train_df.isnull().sum(axis=1) > 20)].copy()"
   ]
  },
  {
   "cell_type": "code",
   "execution_count": 34,
   "id": "aee0651e",
   "metadata": {},
   "outputs": [
    {
     "data": {
      "text/plain": [
       "((2284, 31), (4765, 31))"
      ]
     },
     "execution_count": 34,
     "metadata": {},
     "output_type": "execute_result"
    }
   ],
   "source": [
    "train_15_landmarks.shape, train_4_landmarks.shape"
   ]
  },
  {
   "cell_type": "code",
   "execution_count": 37,
   "id": "c7a80fc3",
   "metadata": {},
   "outputs": [],
   "source": [
    "train_15_landmarks.iloc[0:100, :].to_csv(\"data/val_15.csv\")\n",
    "train_15_landmarks.iloc[100:, :].to_csv(\"data/train_15.csv\")"
   ]
  },
  {
   "cell_type": "code",
   "execution_count": 38,
   "id": "41e5b196",
   "metadata": {},
   "outputs": [],
   "source": [
    "train_4_landmarks.iloc[0:200, :].to_csv(\"data/val_4.csv\")\n",
    "train_4_landmarks.iloc[200:, :].to_csv(\"data/train_4.csv\")"
   ]
  },
  {
   "cell_type": "code",
   "execution_count": 77,
   "id": "347f2102",
   "metadata": {},
   "outputs": [
    {
     "data": {
      "text/html": [
       "<div>\n",
       "<style scoped>\n",
       "    .dataframe tbody tr th:only-of-type {\n",
       "        vertical-align: middle;\n",
       "    }\n",
       "\n",
       "    .dataframe tbody tr th {\n",
       "        vertical-align: top;\n",
       "    }\n",
       "\n",
       "    .dataframe thead th {\n",
       "        text-align: right;\n",
       "    }\n",
       "</style>\n",
       "<table border=\"1\" class=\"dataframe\">\n",
       "  <thead>\n",
       "    <tr style=\"text-align: right;\">\n",
       "      <th></th>\n",
       "      <th>Unnamed: 0</th>\n",
       "      <th>left_eye_center_x</th>\n",
       "      <th>left_eye_center_y</th>\n",
       "      <th>right_eye_center_x</th>\n",
       "      <th>right_eye_center_y</th>\n",
       "      <th>left_eye_inner_corner_x</th>\n",
       "      <th>left_eye_inner_corner_y</th>\n",
       "      <th>left_eye_outer_corner_x</th>\n",
       "      <th>left_eye_outer_corner_y</th>\n",
       "      <th>right_eye_inner_corner_x</th>\n",
       "      <th>...</th>\n",
       "      <th>nose_tip_y</th>\n",
       "      <th>mouth_left_corner_x</th>\n",
       "      <th>mouth_left_corner_y</th>\n",
       "      <th>mouth_right_corner_x</th>\n",
       "      <th>mouth_right_corner_y</th>\n",
       "      <th>mouth_center_top_lip_x</th>\n",
       "      <th>mouth_center_top_lip_y</th>\n",
       "      <th>mouth_center_bottom_lip_x</th>\n",
       "      <th>mouth_center_bottom_lip_y</th>\n",
       "      <th>Image</th>\n",
       "    </tr>\n",
       "  </thead>\n",
       "  <tbody>\n",
       "    <tr>\n",
       "      <th>0</th>\n",
       "      <td>100</td>\n",
       "      <td>64.540235</td>\n",
       "      <td>33.425647</td>\n",
       "      <td>31.731529</td>\n",
       "      <td>35.949318</td>\n",
       "      <td>59.492471</td>\n",
       "      <td>34.372024</td>\n",
       "      <td>69.902824</td>\n",
       "      <td>33.110188</td>\n",
       "      <td>35.832706</td>\n",
       "      <td>...</td>\n",
       "      <td>58.662776</td>\n",
       "      <td>68.325882</td>\n",
       "      <td>69.703765</td>\n",
       "      <td>34.886118</td>\n",
       "      <td>73.173882</td>\n",
       "      <td>50.659765</td>\n",
       "      <td>67.180235</td>\n",
       "      <td>50.659765</td>\n",
       "      <td>79.168235</td>\n",
       "      <td>254 251 251 252 236 181 106 67 57 55 73 83 74 ...</td>\n",
       "    </tr>\n",
       "  </tbody>\n",
       "</table>\n",
       "<p>1 rows × 32 columns</p>\n",
       "</div>"
      ],
      "text/plain": [
       "   Unnamed: 0  left_eye_center_x  left_eye_center_y  right_eye_center_x  \\\n",
       "0         100          64.540235          33.425647           31.731529   \n",
       "\n",
       "   right_eye_center_y  left_eye_inner_corner_x  left_eye_inner_corner_y  \\\n",
       "0           35.949318                59.492471                34.372024   \n",
       "\n",
       "   left_eye_outer_corner_x  left_eye_outer_corner_y  right_eye_inner_corner_x  \\\n",
       "0                69.902824                33.110188                 35.832706   \n",
       "\n",
       "   ...  nose_tip_y  mouth_left_corner_x  mouth_left_corner_y  \\\n",
       "0  ...   58.662776            68.325882            69.703765   \n",
       "\n",
       "   mouth_right_corner_x  mouth_right_corner_y  mouth_center_top_lip_x  \\\n",
       "0             34.886118             73.173882               50.659765   \n",
       "\n",
       "   mouth_center_top_lip_y  mouth_center_bottom_lip_x  \\\n",
       "0               67.180235                  50.659765   \n",
       "\n",
       "   mouth_center_bottom_lip_y  \\\n",
       "0                  79.168235   \n",
       "\n",
       "                                               Image  \n",
       "0  254 251 251 252 236 181 106 67 57 55 73 83 74 ...  \n",
       "\n",
       "[1 rows x 32 columns]"
      ]
     },
     "execution_count": 77,
     "metadata": {},
     "output_type": "execute_result"
    }
   ],
   "source": [
    "train_4 = pd.read_csv(\"data/train_15.csv\", index_col = False)\n",
    "train_4.head(1)"
   ]
  },
  {
   "cell_type": "code",
   "execution_count": 59,
   "id": "ec380bd0",
   "metadata": {},
   "outputs": [
    {
     "ename": "AttributeError",
     "evalue": "'numpy.float64' object has no attribute 'split'",
     "output_type": "error",
     "traceback": [
      "\u001b[0;31m---------------------------------------------------------------------------\u001b[0m",
      "\u001b[0;31mAttributeError\u001b[0m                            Traceback (most recent call last)",
      "Cell \u001b[0;32mIn[59], line 2\u001b[0m\n\u001b[1;32m      1\u001b[0m \u001b[38;5;28;01mimport\u001b[39;00m \u001b[38;5;21;01mnumpy\u001b[39;00m \u001b[38;5;28;01mas\u001b[39;00m \u001b[38;5;21;01mnp\u001b[39;00m\n\u001b[0;32m----> 2\u001b[0m np\u001b[38;5;241m.\u001b[39marray(\u001b[43mtrain_4\u001b[49m\u001b[38;5;241;43m.\u001b[39;49m\u001b[43miloc\u001b[49m\u001b[43m[\u001b[49m\u001b[38;5;241;43m1\u001b[39;49m\u001b[43m,\u001b[49m\u001b[38;5;241;43m30\u001b[39;49m\u001b[43m]\u001b[49m\u001b[38;5;241;43m.\u001b[39;49m\u001b[43msplit\u001b[49m(), dtype\u001b[38;5;241m=\u001b[39mnp\u001b[38;5;241m.\u001b[39mfloat32)\n",
      "\u001b[0;31mAttributeError\u001b[0m: 'numpy.float64' object has no attribute 'split'"
     ]
    }
   ],
   "source": [
    "import numpy as np\n",
    "np.array(train_4.iloc[1,30].split(), dtype=np.float32)"
   ]
  },
  {
   "cell_type": "code",
   "execution_count": null,
   "id": "872bfc66",
   "metadata": {},
   "outputs": [],
   "source": [
    "train_4.iloc[2,31]"
   ]
  },
  {
   "cell_type": "code",
   "execution_count": 78,
   "id": "4317f6f1",
   "metadata": {
    "scrolled": true
   },
   "outputs": [
    {
     "data": {
      "text/html": [
       "<div>\n",
       "<style scoped>\n",
       "    .dataframe tbody tr th:only-of-type {\n",
       "        vertical-align: middle;\n",
       "    }\n",
       "\n",
       "    .dataframe tbody tr th {\n",
       "        vertical-align: top;\n",
       "    }\n",
       "\n",
       "    .dataframe thead th {\n",
       "        text-align: right;\n",
       "    }\n",
       "</style>\n",
       "<table border=\"1\" class=\"dataframe\">\n",
       "  <thead>\n",
       "    <tr style=\"text-align: right;\">\n",
       "      <th></th>\n",
       "      <th>Unnamed: 0</th>\n",
       "      <th>left_eye_center_x</th>\n",
       "      <th>left_eye_center_y</th>\n",
       "      <th>right_eye_center_x</th>\n",
       "      <th>right_eye_center_y</th>\n",
       "      <th>left_eye_inner_corner_x</th>\n",
       "      <th>left_eye_inner_corner_y</th>\n",
       "      <th>left_eye_outer_corner_x</th>\n",
       "      <th>left_eye_outer_corner_y</th>\n",
       "      <th>right_eye_inner_corner_x</th>\n",
       "      <th>...</th>\n",
       "      <th>nose_tip_y</th>\n",
       "      <th>mouth_left_corner_x</th>\n",
       "      <th>mouth_left_corner_y</th>\n",
       "      <th>mouth_right_corner_x</th>\n",
       "      <th>mouth_right_corner_y</th>\n",
       "      <th>mouth_center_top_lip_x</th>\n",
       "      <th>mouth_center_top_lip_y</th>\n",
       "      <th>mouth_center_bottom_lip_x</th>\n",
       "      <th>mouth_center_bottom_lip_y</th>\n",
       "      <th>Image</th>\n",
       "    </tr>\n",
       "  </thead>\n",
       "  <tbody>\n",
       "    <tr>\n",
       "      <th>0</th>\n",
       "      <td>100</td>\n",
       "      <td>64.540235</td>\n",
       "      <td>33.425647</td>\n",
       "      <td>31.731529</td>\n",
       "      <td>35.949318</td>\n",
       "      <td>59.492471</td>\n",
       "      <td>34.372024</td>\n",
       "      <td>69.902824</td>\n",
       "      <td>33.110188</td>\n",
       "      <td>35.832706</td>\n",
       "      <td>...</td>\n",
       "      <td>58.662776</td>\n",
       "      <td>68.325882</td>\n",
       "      <td>69.703765</td>\n",
       "      <td>34.886118</td>\n",
       "      <td>73.173882</td>\n",
       "      <td>50.659765</td>\n",
       "      <td>67.180235</td>\n",
       "      <td>50.659765</td>\n",
       "      <td>79.168235</td>\n",
       "      <td>254 251 251 252 236 181 106 67 57 55 73 83 74 ...</td>\n",
       "    </tr>\n",
       "  </tbody>\n",
       "</table>\n",
       "<p>1 rows × 32 columns</p>\n",
       "</div>"
      ],
      "text/plain": [
       "   Unnamed: 0  left_eye_center_x  left_eye_center_y  right_eye_center_x  \\\n",
       "0         100          64.540235          33.425647           31.731529   \n",
       "\n",
       "   right_eye_center_y  left_eye_inner_corner_x  left_eye_inner_corner_y  \\\n",
       "0           35.949318                59.492471                34.372024   \n",
       "\n",
       "   left_eye_outer_corner_x  left_eye_outer_corner_y  right_eye_inner_corner_x  \\\n",
       "0                69.902824                33.110188                 35.832706   \n",
       "\n",
       "   ...  nose_tip_y  mouth_left_corner_x  mouth_left_corner_y  \\\n",
       "0  ...   58.662776            68.325882            69.703765   \n",
       "\n",
       "   mouth_right_corner_x  mouth_right_corner_y  mouth_center_top_lip_x  \\\n",
       "0             34.886118             73.173882               50.659765   \n",
       "\n",
       "   mouth_center_top_lip_y  mouth_center_bottom_lip_x  \\\n",
       "0               67.180235                  50.659765   \n",
       "\n",
       "   mouth_center_bottom_lip_y  \\\n",
       "0                  79.168235   \n",
       "\n",
       "                                               Image  \n",
       "0  254 251 251 252 236 181 106 67 57 55 73 83 74 ...  \n",
       "\n",
       "[1 rows x 32 columns]"
      ]
     },
     "execution_count": 78,
     "metadata": {},
     "output_type": "execute_result"
    }
   ],
   "source": [
    "train_4.head(1)"
   ]
  },
  {
   "cell_type": "code",
   "execution_count": null,
   "id": "694d2276",
   "metadata": {},
   "outputs": [],
   "source": [
    "train_4.drop(columns=\"Unnamed: 0\")"
   ]
  },
  {
   "cell_type": "markdown",
   "id": "356a465f",
   "metadata": {},
   "source": [
    "Installing EfficientNet"
   ]
  },
  {
   "cell_type": "code",
   "execution_count": 68,
   "id": "9d5e2aa3",
   "metadata": {},
   "outputs": [],
   "source": [
    "import sys\n",
    "sys.path.append('efficientnet-pytorch/EfficientNet-PyTorch/EfficientNet-PyTorch-master')\n",
    "from efficientnet_pytorch import EfficientNet\n"
   ]
  },
  {
   "cell_type": "code",
   "execution_count": 69,
   "id": "fffe42e5",
   "metadata": {},
   "outputs": [
    {
     "data": {
      "text/plain": [
       "efficientnet_pytorch.model.EfficientNet"
      ]
     },
     "execution_count": 69,
     "metadata": {},
     "output_type": "execute_result"
    }
   ],
   "source": [
    "EfficientNet"
   ]
  },
  {
   "cell_type": "code",
   "execution_count": 70,
   "id": "262411ff",
   "metadata": {
    "scrolled": true
   },
   "outputs": [
    {
     "data": {
      "text/plain": [
       "['/Users/ayushgupta/Ayush/GitHub/Facial Keypoint Detection',\n",
       " '/Users/ayushgupta/anaconda3/lib/python310.zip',\n",
       " '/Users/ayushgupta/anaconda3/lib/python3.10',\n",
       " '/Users/ayushgupta/anaconda3/lib/python3.10/lib-dynload',\n",
       " '',\n",
       " '/Users/ayushgupta/anaconda3/lib/python3.10/site-packages',\n",
       " '/Users/ayushgupta/anaconda3/lib/python3.10/site-packages/PyQt5_sip-12.11.0-py3.10-macosx-11.1-arm64.egg',\n",
       " '/Users/ayushgupta/anaconda3/lib/python3.10/site-packages/aeosa',\n",
       " '/Users/ayushgupta/Ayush/Data Science/Radiology',\n",
       " '/Users/ayushgupta/anaconda3/lib/python3.10/site-packages/mpmath-1.2.1-py3.10.egg',\n",
       " '/Users/ayushgupta/anaconda3/lib/python3.10/site-packages/pycurl-7.45.1-py3.10-macosx-11.1-arm64.egg',\n",
       " '../input/efficientnet-pytorch/EfficientNet-PyTorch/EfficientNet-PyTorch-master',\n",
       " '../input/efficientnet-pytorch/EfficientNet-PyTorch/EfficientNet-PyTorch-master',\n",
       " 'efficientnet-pytorch/EfficientNet-PyTorch/EfficientNet-PyTorch-master']"
      ]
     },
     "execution_count": 70,
     "metadata": {},
     "output_type": "execute_result"
    }
   ],
   "source": [
    "sys.path"
   ]
  },
  {
   "cell_type": "code",
   "execution_count": null,
   "id": "bfc1a692",
   "metadata": {},
   "outputs": [],
   "source": [
    "#from torchsummary import summary\n",
    "\n",
    "model = EfficientNet.from_pretrained(\"efficientnet-b0\")\n",
    "model._fc = nn.Linear(1280, 30)\n",
    "model"
   ]
  },
  {
   "cell_type": "code",
   "execution_count": null,
   "id": "a0a68af3",
   "metadata": {},
   "outputs": [],
   "source": []
  }
 ],
 "metadata": {
  "kernelspec": {
   "display_name": "Python 3 (ipykernel)",
   "language": "python",
   "name": "python3"
  },
  "language_info": {
   "codemirror_mode": {
    "name": "ipython",
    "version": 3
   },
   "file_extension": ".py",
   "mimetype": "text/x-python",
   "name": "python",
   "nbconvert_exporter": "python",
   "pygments_lexer": "ipython3",
   "version": "3.10.9"
  }
 },
 "nbformat": 4,
 "nbformat_minor": 5
}
